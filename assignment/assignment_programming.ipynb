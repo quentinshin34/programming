{
  "cells": [
    {
      "cell_type": "markdown",
      "id": "f7c24d5d-9973-45a1-83be-8bca8b03e576",
      "metadata": {
        "id": "f7c24d5d-9973-45a1-83be-8bca8b03e576"
      },
      "source": [
        "# Assignment: Programming Review\n",
        "## Do Q1 and one other question."
      ]
    },
    {
      "cell_type": "markdown",
      "id": "4a3fb7b5-0345-447d-840a-59f667fe9c0c",
      "metadata": {
        "id": "4a3fb7b5-0345-447d-840a-59f667fe9c0c"
      },
      "source": [
        "**Q1.** First, think about your priorities in life. What kind of salary do you want to make after graduation? Do you mind getting more schooling? What kind of work-life balance are you looking for? Where do you want to work, geographically? You don't have to write this down here, just think about it.\n",
        "\n",
        "1. Go to the Occupational Outlook Handbook at [https://www.bls.gov/ooh/](https://www.bls.gov/ooh/). Look up \"Data Scientist.\" Read about the job and start collecting data about it from the job profile (e.g. salary, education required, work setting)\n",
        "2. Find 7-10 other jobs that appeal to you, and collect the same data as you did for Data Scientist. Put it all in a spreadsheet.\n",
        "3. Do any of your findings surprise you?\n",
        "4. Rank the jobs you picked from best to worst, and briefly explain why you did so.\n",
        "5. Please submit your spreadsheet with the assignment --- you can \"de-identify\" it and remove anything that you find personally identifying or you don't want to share, of course. We'll play with these data later.\n"
      ]
    },
    {
      "cell_type": "markdown",
      "id": "7e9d65ad-3740-43d3-a944-b3653fbeb80c",
      "metadata": {
        "id": "7e9d65ad-3740-43d3-a944-b3653fbeb80c"
      },
      "source": [
        "Jobs ranked from best to worst:\n",
        "1. Medical Scientist\n",
        "2. Biomedical Engineer\n",
        "3. Medical and Health Services Managers\n",
        "4. Data Scientist\n",
        "5. Mechanical Engineer\n",
        "6. Information Security Manager\n",
        "7. Physician's Assistant\n",
        "8. Financial Manager\n",
        "9. Computer Programmer\n",
        "10. Actuary\n",
        "\n",
        "It slightly surprised me to see the current and projected job outlook for data scientists. I wonder if we will see similar rise and decline of DS jobs like computer programming jobs have over the past 5 years or so. It was also slightly suprising to see that a doctoral degree in medical sciences doesn't necessarily correlate to greater salaries compared to a bacherlor's degree.\n",
        "\n",
        "The factors that are most important to me in my job are the application of my work/research, the use of my education, and the ability to build a career. I do not mind getting more schooling to open up more impactful jobs. A strong salary will definitely be important for me, but with more education I think that will come naturally while also create job opportunities that will be both important and interesting. My job rankings reflect this, as I believe the medical field has the most opportunity for application while other jobs, such as financial mangers or actuaries, may make more money at the expense of a career.\n"
      ]
    },
    {
      "cell_type": "markdown",
      "id": "7cfa75b2-aaef-4368-a043-93437887879c",
      "metadata": {
        "id": "7cfa75b2-aaef-4368-a043-93437887879c"
      },
      "source": [
        "**Q2.** Being able to make basic plots to visualize sets of points is really helpful, particularly with data analysis. The pyplot plots are built up slowly by defining elements of the plot, and then using `plt.show()` to create the final plot. This question gives you some practice doing that **iterative** building process.\n",
        "\n",
        "1. Import the `numpy` module as `np` and the `matplotlib.pyplot` package as `plt`.\n",
        "2. Use `np.linspace` to create a grid of 50 points ranging from 0 to 1.\n",
        "3. Create a numpy array $y$ containing the values for the natural logarithm function using the `np.log(x)` function. Create a numpy array $z$ containing the values for the exponential function using the `np.exp(x)` function.\n",
        "4. Use the `plt.scatter(x,y)` method for the $y$ and $z$ vectors to create two scatter plots of the points you've created.\n",
        "5. Use the `plt.show()` method to create the plot.\n",
        "\n",
        "That plot has some problems.\n",
        "\n",
        "6. Before the `plt.show()` call, add labels to the $x$ and $y$ axes using `plt.xlabel(label)` and `plt.ylabel(label)`. Add a title to the graph using `plt.title(title)`, like \"Natural Log and Exponential Functions\".\n",
        "7. That looks a lot better, but we need a legend. When you screate the scatter plots, add the argument `label='Natural Log'` or `label='Exponential'` to the `.scatter` method call. Before the `plt.show()` call, add a `plt.legend(loc = 'lower right')` method call, which creates a legend in the lower right.\n",
        "\n",
        "Now do it again, with slightly less direction:\n",
        "\n",
        "8. Create a grid of 100 equally spaced points ranging from -6.5 to 6.5.\n",
        "9. Use the sine and cosine functions in Numpy to compute the values of those functions for each point on your grid. (You'll have to find out what those functions are.)\n",
        "10. Plot the values of the two functions for the values on the grid on the same plot.\n",
        "11. The scatter plot looks really noisy. Instead of `plt.scatter(x,y)` to make a scatter plot, use `plt.plot(x,y)` to make a line graph.\n",
        "12. Make the plot again, with labels for the axes, a title, and a legend in the lower left instead of the lower right.\n"
      ]
    },
    {
      "cell_type": "code",
      "execution_count": 2,
      "id": "9c05ee86-06dc-4ae9-896d-0cb70c4d6c3d",
      "metadata": {
        "colab": {
          "base_uri": "https://localhost:8080/",
          "height": 469
        },
        "id": "9c05ee86-06dc-4ae9-896d-0cb70c4d6c3d",
        "outputId": "758027fc-7207-4ed4-b7ac-ed0dbed6995b"
      },
      "outputs": [
        {
          "output_type": "stream",
          "name": "stderr",
          "text": [
            "<ipython-input-2-4a0fe43f88e7>:5: RuntimeWarning: divide by zero encountered in log\n",
            "  y = np.log(x)\n"
          ]
        },
        {
          "output_type": "display_data",
          "data": {
            "text/plain": [
              "<Figure size 640x480 with 1 Axes>"
            ],
            "image/png": "[encoded data removed]"
          },
          "metadata": {}
        }
      ],
      "source": [
        "import numpy as np\n",
        "import matplotlib.pyplot as plt\n",
        "\n",
        "x = np.linspace(0,1,50);\n",
        "y = np.log(x)\n",
        "z = np.exp(x)\n",
        "\n",
        "plt.scatter(x,y)\n",
        "plt.scatter(x,z)\n",
        "plt.show()\n"
      ]
    },
    {
      "cell_type": "markdown",
      "id": "ab57312f-fd41-4763-b38c-3b7c1b062b1c",
      "metadata": {
        "id": "ab57312f-fd41-4763-b38c-3b7c1b062b1c"
      },
      "source": [
        "**Q3.** This is a basic review of some statistics along with practice writing functions. Like we talked about, Python is a general purpose programming language and ships without basic data handling or statistical packages coded in. The beginning of the code chunk below generates random values for you to test your work on; since the random values are generates as NumPy arrays, you'll need to use the Numpy methods `np.sum(x)` to sum the vector $x$ and `np.sqrt(x)` to take the square roots of the values in $x$, as well as the Python function `len(x)` to get the length of $x$.\n",
        "\n",
        "Try to reuse the functions you've already defined as you work through the following questions, rather than rewriting code you've already written.\n",
        "\n",
        "1. Write a function that computes the **sample average** or **mean** of a vector $x$,\n",
        "$$\n",
        "\\bar{x} = \\dfrac{x_1 + x_2 + ... + x_N}{N} = \\dfrac{\\sum_{i=1}^N x_i}{N}.\n",
        "$$\n",
        "Write a function in the code chunk below to compute this quantity, and then use it to compute the mean of $x$.\n",
        "2. Write a function that computes the **sample standard deviation** of a vector $x$,\n",
        "$$\n",
        "s_x = \\sqrt{\\dfrac{(x_1 - \\bar{x})^2 + ... (x_N - \\bar{x})^2 }{N-1}} = \\sqrt{\\dfrac{ \\sum_{i=1}^N (x_i - \\bar{x})^2 }{N-1}}.\n",
        "$$\n",
        "The intuition of this quantity is that it computes roughly the average distance from each point $x_i$ to the sample mean $\\bar{x}$. If it is small, it means all the points are clustered tightly around the mean, and if it is large, it means the points are typically far away from the average. Write a function in the code chunk below to compute this quantity, and then use it to compute the sample standard deviation of $x$.\n",
        "3. Write a function that calls the previous two to **standardize** the values of the vector as a **$z$-score**:\n",
        "$$\n",
        "z = \\dfrac{x-\\bar{x}}{s}.\n",
        "$$\n",
        "The intuition of this quantity is that it is recentering all the values of $x$ so the average is zero and then scaling them by the standard deviation. If the data are normally distributed and $N$ is large, the $z$ score will approximately follow a standard normal distribution. Write a function in the code chunk below to compute this quantity, and then use it to compute the z-scores for $x$.\n",
        "4. The **sample covariance** of two vectors $x=(x_1,...,x_N)$ and $y=(y_1,...,y_N)$ is defined as\n",
        "$$\n",
        "cov(x,y) = \\dfrac{(x_1 - \\bar{x})(y_1-\\bar{y}) + (x_2 - \\bar{x})(y_2-\\bar{y}) + ... + (x_N - \\bar{x})(y_{N}-\\bar{y})}{N-1}\n",
        "$$\n",
        "$$\n",
        "= \\dfrac{\\sum_{i=1}^N (x_i - \\bar{x})(y_i - \\bar{y})}{N-1}.\n",
        "$$\n",
        "The intuition of this quantity is that it looks at the pairs $(x_i, y_i)$ and compares them to the means $(\\bar{x},\\bar{y})$ to determine whether $x$ and $y$ tend to co-vary in the same direction relative to their means: If the values of $x$ and $y$ are typically both above or below the mean values of $x$ and $y$, then $x$ and $y$ will have a positive covariance, but if $x$ is typically above the mean of $x$ when $y$ is typically below the mean of $y$ or vice versa, then they will have a negative covariance. Write a function in the code chunk below to compute this quantity, and then use it to compute the covariance of the generated $x$ and $y$.\n",
        "6. The **sample correlation coefficient** of two vectors $x$ and $y$ is defined as\n",
        "$$\n",
        "r_{xy} = \\dfrac{cov(x,y)}{s_x s_y}\n",
        "$$\n",
        "Use your functions to create a new function that compute this quantity. The intuition of this quantity is that it is like the covariance, but normalized so that its values like between -1 and 1: perfect negative linear association between the variables at -1, no association at 0, and perfect positive linear association between the variables at 1."
      ]
    },
    {
      "cell_type": "code",
      "execution_count": null,
      "id": "f42ab788-af0c-47a4-a103-46c9a37bfad3",
      "metadata": {
        "id": "f42ab788-af0c-47a4-a103-46c9a37bfad3"
      },
      "outputs": [],
      "source": [
        "import numpy as np\n",
        "import math as math\n",
        "np.random.seed(100) # Set the seed for the random number generator\n",
        "rho, sigma_x, sigma_y = -.4, 3, 2 # Variance-Covariance Parameters\n",
        "vcv = np.array([[sigma_x**2, rho*sigma_x*sigma_y],\n",
        "                [rho*sigma_x*sigma_y,sigma_y**2]]) # VCV Matrix\n",
        "mu = np.array([-1,2]) # Population averages\n",
        "sample = np.random.multivariate_normal(mu,vcv,200) # Multivariate normal draws\n",
        "x = sample[:,0]\n",
        "y = sample[:,1]\n",
        "\n",
        "#############################################################################\n"
      ]
    },
    {
      "cell_type": "markdown",
      "id": "5924279e-4b74-4941-9819-f028ce3db974",
      "metadata": {
        "id": "5924279e-4b74-4941-9819-f028ce3db974"
      },
      "source": [
        "**Q4.** Optimization is at the core of data science and statistics: Picking the best fit or estimate according to some desirable criteria (e.g. Maximum Likelihood Estimation). In this question, you're going to write a function that finds the highest possible value for some function, and returns the value of the function and the maximizing value.\n",
        "\n",
        "1. Write a function that creates a grid from some value $a$ to a second value $b$ with $N$ steps, computes the value of a function $f$ on that grid, and then finds the maximizers of the function. Have it return a dictionary with the maximum value and the maximizers themselves.\n",
        "2. Use your function to maximize $f(x) = 100 - 2x^2 + 3x$ for values of $a=-1$, $b=1$, and for values of $N=3$, $N=10$, $N=100$, $N=1000$ and $N=5000$.\n",
        "3. The true maximizer of this function is $.75$ and the true maximum value is $101.125$. Is that what you got in the previous step? Why not? How does the quality of the maximization depend on $N$? How does your computed answer change as $N$ gets larger?"
      ]
    },
    {
      "cell_type": "code",
      "execution_count": null,
      "id": "c3b32977-7687-4770-8f12-2ab0593f2258",
      "metadata": {
        "id": "c3b32977-7687-4770-8f12-2ab0593f2258"
      },
      "outputs": [],
      "source": [
        "import numpy as np\n",
        "import matplotlib.pyplot as plt\n"
      ]
    },
    {
      "cell_type": "markdown",
      "id": "3c6e5e34-00c0-4101-a1af-34cf61d69ffc",
      "metadata": {
        "id": "3c6e5e34-00c0-4101-a1af-34cf61d69ffc"
      },
      "source": [
        "3."
      ]
    }
  ],
  "metadata": {
    "kernelspec": {
      "display_name": "Python 3 (ipykernel)",
      "language": "python",
      "name": "python3"
    },
    "language_info": {
      "codemirror_mode": {
        "name": "ipython",
        "version": 3
      },
      "file_extension": ".py",
      "mimetype": "text/x-python",
      "name": "python",
      "nbconvert_exporter": "python",
      "pygments_lexer": "ipython3",
      "version": "3.10.4"
    },
    "colab": {
      "provenance": []
    }
  },
  "nbformat": 4,
  "nbformat_minor": 5
}